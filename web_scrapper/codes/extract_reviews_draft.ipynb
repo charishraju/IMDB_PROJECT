{
 "cells": [
  {
   "cell_type": "code",
   "execution_count": 1,
   "metadata": {},
   "outputs": [],
   "source": [
    "import numpy as np \n",
    "import pandas as pd \n",
    "import random\n",
    "from selenium import webdriver\n",
    "from selenium.webdriver.common.by import By\n",
    "from bs4 import BeautifulSoup\n",
    "from selenium.webdriver.chrome.service import Service as ChromeService\n",
    "from webdriver_manager.chrome import ChromeDriverManager\n",
    "from selenium.webdriver.support import expected_conditions as EC\n",
    "from selenium.webdriver.support.ui import WebDriverWait,Select\n",
    "from selenium.common.exceptions import NoSuchElementException\n",
    "import time\n",
    "from selenium.webdriver.common.action_chains import ActionChains\n",
    "from selenium.webdriver.common.keys import Keys\n",
    "from selenium.webdriver.chrome.service import Service\n",
    "from selenium.webdriver.chrome.options import Options\n",
    "import requests\n",
    "import subprocess\n",
    "import re\n",
    "from tqdm import tqdm\n",
    "tqdm.pandas()\n",
    "\n",
    "import os\n",
    "os.chdir(os.path.abspath(os.path.join(os.getcwd(), \"..\", \"..\")))\n",
    "\n",
    "from logger import logger"
   ]
  },
  {
   "cell_type": "code",
   "execution_count": 2,
   "metadata": {},
   "outputs": [],
   "source": [
    "# url = 'https://www.imdb.com/title/tt0111161/?ref_=sr_i_1'\n",
    "\n",
    "url = 'https://www.imdb.com/title/tt10888594/?ref_=sr_i_1'"
   ]
  },
  {
   "cell_type": "code",
   "execution_count": 3,
   "metadata": {},
   "outputs": [],
   "source": [
    "driver = webdriver.Chrome()\n"
   ]
  },
  {
   "cell_type": "code",
   "execution_count": 4,
   "metadata": {},
   "outputs": [],
   "source": [
    "reviews_link = url"
   ]
  },
  {
   "cell_type": "code",
   "execution_count": 5,
   "metadata": {},
   "outputs": [],
   "source": [
    "# got movie title and link\n",
    "\n",
    "driver.get(reviews_link)\n",
    "time.sleep(3)"
   ]
  },
  {
   "cell_type": "code",
   "execution_count": 6,
   "metadata": {},
   "outputs": [],
   "source": [
    "click_reviews = driver.find_element(By.XPATH, \"//div[@data-testid='reviews-header']\")\n",
    "reviews_link = click_reviews.find_element(By.TAG_NAME,'a').get_attribute('href')"
   ]
  },
  {
   "cell_type": "code",
   "execution_count": 7,
   "metadata": {},
   "outputs": [],
   "source": [
    "driver.get(reviews_link)"
   ]
  },
  {
   "cell_type": "code",
   "execution_count": 8,
   "metadata": {},
   "outputs": [
    {
     "name": "stdout",
     "output_type": "stream",
     "text": [
      "2577\n"
     ]
    }
   ],
   "source": [
    "reviews_element = driver.find_element(By.XPATH, \"//div[@data-testid='tturv-total-reviews']\")\n",
    "reviews_text = reviews_element.text\n",
    "# Use regex to extract only the numeric part\n",
    "reviews_count = int(re.sub(r\"[^\\d]\", \"\", reviews_text))\n",
    "\n",
    "print(reviews_count)"
   ]
  },
  {
   "cell_type": "code",
   "execution_count": 9,
   "metadata": {},
   "outputs": [],
   "source": [
    "def click_all_button():\n",
    "    #  click button to show all reviews\n",
    "    try:\n",
    "        # Locate the correct <span> first, then find the button inside it\n",
    "        span_element = driver.find_element(By.XPATH, \"//span[contains(@class, 'chained-see-more-button')]\")\n",
    "        button = span_element.find_element(By.TAG_NAME, \"button\")\n",
    "\n",
    "        if button:\n",
    "            # Click the button using ActionChains (sometimes needed for better interaction)\n",
    "            ActionChains(driver).move_to_element(button).click().perform()\n",
    "        \n",
    "            print(\"Correct 'All' button clicked successfully.\")\n",
    "    except Exception as e:\n",
    "        print(f\"Error: {e}\")"
   ]
  },
  {
   "cell_type": "code",
   "execution_count": 10,
   "metadata": {},
   "outputs": [
    {
     "name": "stdout",
     "output_type": "stream",
     "text": [
      "Correct 'All' button clicked successfully.\n",
      "Loaded articles: 25\n",
      "Correct 'All' button clicked successfully.\n",
      "Loaded articles: 150\n",
      "Correct 'All' button clicked successfully.\n",
      "Loaded articles: 375\n",
      "Correct 'All' button clicked successfully.\n",
      "Loaded articles: 575\n",
      "Correct 'All' button clicked successfully.\n",
      "Loaded articles: 750\n",
      "Correct 'All' button clicked successfully.\n",
      "Loaded articles: 874\n",
      "Correct 'All' button clicked successfully.\n",
      "Loaded articles: 999\n",
      "Correct 'All' button clicked successfully.\n",
      "Loaded articles: 1174\n",
      "Correct 'All' button clicked successfully.\n",
      "Loaded articles: 1324\n",
      "Correct 'All' button clicked successfully.\n",
      "Loaded articles: 1499\n",
      "Correct 'All' button clicked successfully.\n",
      "Loaded articles: 1649\n",
      "Correct 'All' button clicked successfully.\n",
      "Loaded articles: 1824\n",
      "Correct 'All' button clicked successfully.\n",
      "Loaded articles: 1999\n",
      "Correct 'All' button clicked successfully.\n",
      "Loaded articles: 2174\n",
      "Correct 'All' button clicked successfully.\n",
      "Loaded articles: 2349\n",
      "Correct 'All' button clicked successfully.\n",
      "Loaded articles: 2524\n",
      "Correct 'All' button clicked successfully.\n",
      "Loaded articles: 2601\n",
      "All articles loaded!\n"
     ]
    }
   ],
   "source": [
    "max_wait_time = 600  \n",
    "polling_interval = 1.5  # Check every 1.5 seconds\n",
    "target_count = reviews_count  # Expected number of articles\n",
    "\n",
    "start_time = time.time()\n",
    "\n",
    "click_all_button()\n",
    "\n",
    "while True:\n",
    "    # Count current number of loaded articles\n",
    "    articles = driver.find_elements(By.TAG_NAME, \"article\")\n",
    "    current_count = len(articles)\n",
    "\n",
    "    print(f\"Loaded articles: {current_count}\")\n",
    "\n",
    "    # If we reach the target, break the loop\n",
    "    if current_count >= target_count:\n",
    "        print(\"All articles loaded!\")\n",
    "        break\n",
    "\n",
    "    # Stop waiting if max wait time is exceeded\n",
    "    if time.time() - start_time > max_wait_time:\n",
    "        print(\"Timeout reached. Extracting available articles.\")\n",
    "        break\n",
    "    \n",
    "\n",
    "    if articles:\n",
    "        last_article = articles[-1]  # Get the last article\n",
    "        driver.execute_script(\"arguments[0].scrollIntoView();\", last_article)\n",
    "        # print(\"Scrolled to the last article.\")\n",
    "    else:\n",
    "        # print(\"No articles found.\")\n",
    "        pass\n",
    "    \n",
    "    click_all_button()\n",
    "    \n",
    "    time.sleep(polling_interval)  # Wait before checking again\n"
   ]
  },
  {
   "cell_type": "code",
   "execution_count": 11,
   "metadata": {},
   "outputs": [
    {
     "data": {
      "text/plain": [
       "<selenium.webdriver.remote.webelement.WebElement (session=\"cc298184fdaf07a7dd454bbc13fe3825\", element=\"f.0C1554D1A7B74737C74DC1C10BF126CA.d.5AA353242F44C3E596290448EC9A0C03.e.130\")>"
      ]
     },
     "execution_count": 11,
     "metadata": {},
     "output_type": "execute_result"
    }
   ],
   "source": [
    "articles[0]"
   ]
  },
  {
   "cell_type": "code",
   "execution_count": 12,
   "metadata": {},
   "outputs": [
    {
     "data": {
      "text/plain": [
       "'1'"
      ]
     },
     "execution_count": 12,
     "metadata": {},
     "output_type": "execute_result"
    }
   ],
   "source": [
    "review_star = None\n",
    "\n",
    "\n",
    "try:\n",
    "    review_star =  articles[0].find_element(By.CLASS_NAME,'ipc-rating-star--rating').text\n",
    "except:\n",
    "    review_star = None\n",
    "    \n",
    "review_star"
   ]
  },
  {
   "cell_type": "code",
   "execution_count": 13,
   "metadata": {},
   "outputs": [
    {
     "data": {
      "text/plain": [
       "'10'"
      ]
     },
     "execution_count": 13,
     "metadata": {},
     "output_type": "execute_result"
    }
   ],
   "source": [
    "max_star = None\n",
    "try:\n",
    "    max_star =  articles[0].find_element(By.CLASS_NAME,'ipc-rating-star--maxRating').text[1:]\n",
    "except:\n",
    "    max_star = None\n",
    "    \n",
    "max_star"
   ]
  },
  {
   "cell_type": "code",
   "execution_count": 19,
   "metadata": {},
   "outputs": [
    {
     "data": {
      "text/plain": [
       "'Trash of the year'"
      ]
     },
     "execution_count": 19,
     "metadata": {},
     "output_type": "execute_result"
    }
   ],
   "source": [
    "review_title = None\n",
    "try:\n",
    "    review_title =  articles[1].find_element(By.CLASS_NAME,'ipc-title__text').text\n",
    "except:\n",
    "    review_title = None\n",
    "    \n",
    "review_title"
   ]
  },
  {
   "cell_type": "code",
   "execution_count": 15,
   "metadata": {},
   "outputs": [
    {
     "data": {
      "text/plain": [
       "('xpath', \"//div[@data-testid='tturv-total-reviews']\")"
      ]
     },
     "execution_count": 15,
     "metadata": {},
     "output_type": "execute_result"
    }
   ],
   "source": [
    "By.XPATH, \"//div[@data-testid='tturv-total-reviews']\""
   ]
  },
  {
   "cell_type": "code",
   "execution_count": 18,
   "metadata": {},
   "outputs": [
    {
     "data": {
      "text/plain": [
       "'Salman has competition from himself to make worst movie.\\n\\nAnd he won this time too.'"
      ]
     },
     "execution_count": 18,
     "metadata": {},
     "output_type": "execute_result"
    }
   ],
   "source": [
    "review_text = None\n",
    "try:\n",
    "    review_text =  articles[3].find_element(By.XPATH,\"//div[@data-testid='review-overflow']\").text\n",
    "except:\n",
    "    review_text = None\n",
    "    \n",
    "review_text"
   ]
  },
  {
   "cell_type": "code",
   "execution_count": 21,
   "metadata": {},
   "outputs": [
    {
     "data": {
      "text/plain": [
       "'No suspense , No thriller , Zero storyline.\\n\\nSalman khan is a feast to his fans with his ever charming looks. But the movie completely lacks in story, screenplay, direction,etc...'"
      ]
     },
     "execution_count": 21,
     "metadata": {},
     "output_type": "execute_result"
    }
   ],
   "source": [
    "# ipc-overflowText--children\n",
    "\n",
    "review_text = None\n",
    "try:\n",
    "    review_text =  articles[7].find_element(By.CLASS_NAME,\"ipc-overflowText--children\").text\n",
    "except:\n",
    "    review_text = None\n",
    "    \n",
    "review_text"
   ]
  },
  {
   "cell_type": "code",
   "execution_count": 17,
   "metadata": {},
   "outputs": [],
   "source": [
    "    # review_text = None\n",
    "    # try:\n",
    "    #     review_text =  article.find_element(By.XPATH,\"//div[@data-testid='review-overflow']\").text\n",
    "    # except:\n",
    "    #     review_text = None"
   ]
  },
  {
   "cell_type": "code",
   "execution_count": 24,
   "metadata": {},
   "outputs": [],
   "source": [
    "sample_articles = articles[:100]"
   ]
  },
  {
   "cell_type": "code",
   "execution_count": 25,
   "metadata": {},
   "outputs": [
    {
     "name": "stderr",
     "output_type": "stream",
     "text": [
      "  0%|          | 0/100 [00:00<?, ?it/s]"
     ]
    },
    {
     "name": "stderr",
     "output_type": "stream",
     "text": [
      "100%|██████████| 100/100 [00:18<00:00,  5.36it/s]\n"
     ]
    }
   ],
   "source": [
    "review_stars = []\n",
    "max_stars = []\n",
    "review_titles = []\n",
    "review_texts = []\n",
    "\n",
    "\n",
    "\n",
    "for article in tqdm(sample_articles):\n",
    "    \n",
    "    review_star = None\n",
    "    try:\n",
    "        review_star =  article.find_element(By.CLASS_NAME,'ipc-rating-star--rating').text\n",
    "    except:\n",
    "        review_star = None\n",
    "        \n",
    "    review_stars.append(review_star)\n",
    "        \n",
    "    \n",
    "        \n",
    "    max_star = None\n",
    "    try:\n",
    "        max_star =  article.find_element(By.CLASS_NAME,'ipc-rating-star--maxRating').text[1:]\n",
    "    except:\n",
    "        max_star = None\n",
    "    max_stars.append(max_star)\n",
    "        \n",
    "    review_title = None\n",
    "    try:\n",
    "        review_title =  article.find_element(By.CLASS_NAME,'ipc-title__text').text\n",
    "    except:\n",
    "        review_title = None\n",
    "    \n",
    "    review_titles.append(review_title)\n",
    "        \n",
    "\n",
    "    \n",
    "    # review_text = None\n",
    "\n",
    "    # try:\n",
    "    #     # Check if Spoiler button exists\n",
    "    #     spoiler_button = article.find_element(By.XPATH, \"//button[contains(@class, 'review-spoiler-button')]\")\n",
    "    #     if spoiler_button:\n",
    "    #         review_text = None  # Set to None if spoiler button is found\n",
    "    #     else:\n",
    "    #         review_text = article.find_element(By.XPATH, \"//div[@data-testid='review-overflow']\").text\n",
    "    # except NoSuchElementException:\n",
    "    #     # If no spoiler button is found, try extracting review\n",
    "    #     try:\n",
    "    #         review_text = article.find_element(By.XPATH, \"//div[@data-testid='review-overflow']\").text\n",
    "    #     except NoSuchElementException:\n",
    "    #         review_text = None  # Set to None if review is also not found\n",
    "    \n",
    "    \n",
    "    review_text = None\n",
    "    try:\n",
    "        review_text =  article.find_element(By.CLASS_NAME,\"ipc-overflowText--children\").text\n",
    "    except:\n",
    "        review_text = None\n",
    "            \n",
    "    review_texts.append(review_text)\n",
    "        \n",
    "    "
   ]
  },
  {
   "cell_type": "code",
   "execution_count": 26,
   "metadata": {},
   "outputs": [
    {
     "data": {
      "text/html": [
       "<div>\n",
       "<style scoped>\n",
       "    .dataframe tbody tr th:only-of-type {\n",
       "        vertical-align: middle;\n",
       "    }\n",
       "\n",
       "    .dataframe tbody tr th {\n",
       "        vertical-align: top;\n",
       "    }\n",
       "\n",
       "    .dataframe thead th {\n",
       "        text-align: right;\n",
       "    }\n",
       "</style>\n",
       "<table border=\"1\" class=\"dataframe\">\n",
       "  <thead>\n",
       "    <tr style=\"text-align: right;\">\n",
       "      <th></th>\n",
       "      <th>review_star</th>\n",
       "      <th>max_star</th>\n",
       "      <th>review_title</th>\n",
       "      <th>review_text</th>\n",
       "    </tr>\n",
       "  </thead>\n",
       "  <tbody>\n",
       "    <tr>\n",
       "      <th>0</th>\n",
       "      <td>1</td>\n",
       "      <td>10</td>\n",
       "      <td>Donate money for Corona patients rather to was...</td>\n",
       "      <td>Salman has competition from himself to make wo...</td>\n",
       "    </tr>\n",
       "    <tr>\n",
       "      <th>1</th>\n",
       "      <td>1</td>\n",
       "      <td>10</td>\n",
       "      <td>Trash of the year</td>\n",
       "      <td>Storyline Trash, Acting of Salman khan Trash, ...</td>\n",
       "    </tr>\n",
       "    <tr>\n",
       "      <th>2</th>\n",
       "      <td>1</td>\n",
       "      <td>10</td>\n",
       "      <td>As always.</td>\n",
       "      <td>This is the best movie if you want to nit watc...</td>\n",
       "    </tr>\n",
       "    <tr>\n",
       "      <th>3</th>\n",
       "      <td>1</td>\n",
       "      <td>10</td>\n",
       "      <td>Worst movie of all the time</td>\n",
       "      <td>Salman Khan needs to take retirement. This mov...</td>\n",
       "    </tr>\n",
       "    <tr>\n",
       "      <th>4</th>\n",
       "      <td>1</td>\n",
       "      <td>10</td>\n",
       "      <td>Maha Bakwassss...</td>\n",
       "      <td>I would rather prefer watching TVF webseries a...</td>\n",
       "    </tr>\n",
       "    <tr>\n",
       "      <th>...</th>\n",
       "      <td>...</td>\n",
       "      <td>...</td>\n",
       "      <td>...</td>\n",
       "      <td>...</td>\n",
       "    </tr>\n",
       "    <tr>\n",
       "      <th>95</th>\n",
       "      <td>1</td>\n",
       "      <td>10</td>\n",
       "      <td>Hyped for no reason</td>\n",
       "      <td>It's not new first Bollywood to adapt or in th...</td>\n",
       "    </tr>\n",
       "    <tr>\n",
       "      <th>96</th>\n",
       "      <td>1</td>\n",
       "      <td>10</td>\n",
       "      <td>All brawn, no brain! At best a polished, medio...</td>\n",
       "      <td>Your \"Most Wanted Bhai\" is here, in your drawi...</td>\n",
       "    </tr>\n",
       "    <tr>\n",
       "      <th>97</th>\n",
       "      <td>9</td>\n",
       "      <td>10</td>\n",
       "      <td>MUST WATCH</td>\n",
       "      <td>Fast paced movie. Not at all boring. Good mess...</td>\n",
       "    </tr>\n",
       "    <tr>\n",
       "      <th>98</th>\n",
       "      <td>None</td>\n",
       "      <td>None</td>\n",
       "      <td>Trash movie</td>\n",
       "      <td>Don't waste your time on this movie.\\n\\nMovie ...</td>\n",
       "    </tr>\n",
       "    <tr>\n",
       "      <th>99</th>\n",
       "      <td>7</td>\n",
       "      <td>10</td>\n",
       "      <td>Very nice movie.</td>\n",
       "      <td>Everything is Very good song action all of mat...</td>\n",
       "    </tr>\n",
       "  </tbody>\n",
       "</table>\n",
       "<p>100 rows × 4 columns</p>\n",
       "</div>"
      ],
      "text/plain": [
       "   review_star max_star                                       review_title  \\\n",
       "0            1       10  Donate money for Corona patients rather to was...   \n",
       "1            1       10                                  Trash of the year   \n",
       "2            1       10                                         As always.   \n",
       "3            1       10                        Worst movie of all the time   \n",
       "4            1       10                                  Maha Bakwassss...   \n",
       "..         ...      ...                                                ...   \n",
       "95           1       10                                Hyped for no reason   \n",
       "96           1       10  All brawn, no brain! At best a polished, medio...   \n",
       "97           9       10                                         MUST WATCH   \n",
       "98        None     None                                        Trash movie   \n",
       "99           7       10                                   Very nice movie.   \n",
       "\n",
       "                                          review_text  \n",
       "0   Salman has competition from himself to make wo...  \n",
       "1   Storyline Trash, Acting of Salman khan Trash, ...  \n",
       "2   This is the best movie if you want to nit watc...  \n",
       "3   Salman Khan needs to take retirement. This mov...  \n",
       "4   I would rather prefer watching TVF webseries a...  \n",
       "..                                                ...  \n",
       "95  It's not new first Bollywood to adapt or in th...  \n",
       "96  Your \"Most Wanted Bhai\" is here, in your drawi...  \n",
       "97  Fast paced movie. Not at all boring. Good mess...  \n",
       "98  Don't waste your time on this movie.\\n\\nMovie ...  \n",
       "99  Everything is Very good song action all of mat...  \n",
       "\n",
       "[100 rows x 4 columns]"
      ]
     },
     "execution_count": 26,
     "metadata": {},
     "output_type": "execute_result"
    }
   ],
   "source": [
    "df = pd.DataFrame({\n",
    "    \"review_star\": review_stars,\n",
    "    \"max_star\": max_stars,\n",
    "    \"review_title\": review_titles,\n",
    "    \"review_text\": review_texts\n",
    "})\n",
    "\n",
    "df"
   ]
  },
  {
   "cell_type": "code",
   "execution_count": null,
   "metadata": {},
   "outputs": [],
   "source": []
  }
 ],
 "metadata": {
  "kernelspec": {
   "display_name": "project_env",
   "language": "python",
   "name": "python3"
  },
  "language_info": {
   "codemirror_mode": {
    "name": "ipython",
    "version": 3
   },
   "file_extension": ".py",
   "mimetype": "text/x-python",
   "name": "python",
   "nbconvert_exporter": "python",
   "pygments_lexer": "ipython3",
   "version": "3.9.21"
  }
 },
 "nbformat": 4,
 "nbformat_minor": 2
}
