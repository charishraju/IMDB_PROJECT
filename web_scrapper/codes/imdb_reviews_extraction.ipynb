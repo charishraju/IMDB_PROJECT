{
 "cells": [
  {
   "cell_type": "markdown",
   "metadata": {},
   "source": [
    "# Importing necessary libraries"
   ]
  },
  {
   "cell_type": "code",
   "execution_count": 1,
   "metadata": {},
   "outputs": [],
   "source": [
    "import numpy as np \n",
    "import pandas as pd \n",
    "import random\n",
    "from selenium import webdriver\n",
    "from selenium.webdriver.common.by import By\n",
    "from bs4 import BeautifulSoup\n",
    "from selenium.webdriver.chrome.service import Service as ChromeService\n",
    "from webdriver_manager.chrome import ChromeDriverManager\n",
    "from selenium.webdriver.support import expected_conditions as EC\n",
    "from selenium.webdriver.support.ui import WebDriverWait,Select\n",
    "import time\n",
    "from selenium.webdriver.common.action_chains import ActionChains\n",
    "from selenium.webdriver.common.keys import Keys\n",
    "from selenium.webdriver.chrome.service import Service\n",
    "from selenium.webdriver.chrome.options import Options\n",
    "import requests\n",
    "import subprocess\n",
    "import re\n",
    "from tqdm import tqdm\n",
    "tqdm.pandas()\n",
    "\n",
    "import os\n",
    "os.chdir(os.path.abspath(os.path.join(os.getcwd(), \"..\", \"..\")))"
   ]
  },
  {
   "cell_type": "code",
   "execution_count": 2,
   "metadata": {},
   "outputs": [],
   "source": [
    "from utils.web_scrapping import random_scroll,scroll_to_element,scroll_to_bottom\n",
    "from logger import logger"
   ]
  },
  {
   "cell_type": "code",
   "execution_count": null,
   "metadata": {},
   "outputs": [],
   "source": []
  },
  {
   "cell_type": "markdown",
   "metadata": {},
   "source": [
    "# setting up selinium web driver and opening the webpage"
   ]
  },
  {
   "cell_type": "code",
   "execution_count": 3,
   "metadata": {},
   "outputs": [],
   "source": [
    "def launch_chrome_with_debugging(url):\n",
    "    chrome_path = r\"C:\\Program Files\\Google\\Chrome\\Application\\chrome.exe\"\n",
    "    # user_data_dir = r\"C:\\\\Users\\\\Harish raju\\\\AppData\\\\Local\\\\Google\\\\Chrome\\\\User Data\\\\Default\"  # Adjust this path as needed\n",
    "    remote_debugging_port = 9222\n",
    "\n",
    "    # Command to start Chrome with remote debugging enabled\n",
    "    command = [\n",
    "        chrome_path,\n",
    "        f\"--remote-debugging-port={remote_debugging_port}\",\n",
    "        # f\"--user-data-dir={user_data_dir}\",\n",
    "        url\n",
    "    ]\n",
    "\n",
    "    # Launch Chrome\n",
    "    subprocess.Popen(command)\n",
    "\n",
    "url = \"https://www.imdb.com/search/title/?groups=top_1000&count=100\"\n",
    "# Launch Chrome with the target URL\n",
    "launch_chrome_with_debugging(url)\n",
    "\n",
    "# Wait for a few seconds to ensure Chrome has started\n",
    "time.sleep(5)\n"
   ]
  },
  {
   "cell_type": "code",
   "execution_count": 4,
   "metadata": {},
   "outputs": [],
   "source": [
    "# Function to get the WebSocket Debugger URL\n",
    "def get_websocket_debugger_url():\n",
    "    response = requests.get('http://localhost:9222/json')\n",
    "    if response.status_code == 200:\n",
    "        json_data = response.json()\n",
    "        for page in json_data:\n",
    "            if \"imdb\" in page['url']:  # Match any Amazon page\n",
    "                return page['webSocketDebuggerUrl']\n",
    "    return None\n",
    "\n",
    "# Check if Chrome is running with remote debugging\n",
    "websocket_debugger_url = get_websocket_debugger_url()\n",
    "if not websocket_debugger_url:\n",
    "    raise Exception(\"Could not get the WebSocket debugger URL. \"\n",
    "                    \"Make sure Chrome is running with remote debugging enabled.\")\n",
    "\n",
    "# Set up Selenium to use the existing Chrome instance\n",
    "chrome_options = Options()\n",
    "chrome_options.debugger_address = \"localhost:9222\"\n",
    "\n",
    "# Set a custom user agent (optional)\n",
    "user_agent = (\"Mozilla/5.0 (Windows NT 10.0; Win64; x64) \"\n",
    "              \"AppleWebKit/537.36 (KHTML, like Gecko) Chrome/91.0.4472.124 Safari/537.36\")\n",
    "chrome_options.add_argument(f\"user-agent={user_agent}\")\n",
    "\n",
    "# Initialize WebDriver\n",
    "driver = webdriver.Chrome(options=chrome_options)"
   ]
  },
  {
   "cell_type": "code",
   "execution_count": 5,
   "metadata": {},
   "outputs": [],
   "source": [
    "driver.get(url)\n",
    "\n",
    "time.sleep(3)"
   ]
  },
  {
   "cell_type": "code",
   "execution_count": null,
   "metadata": {},
   "outputs": [],
   "source": [
    "dropdown_label = driver.find_element(By.CLASS_NAME, \"ipc-simple-select__input\")\n",
    "dropdown_label.click()\n",
    "time.sleep(2)  # Wait for options to appear\n",
    "\n",
    "select_element = driver.find_element(By.ID, \"adv-srch-sort-by\")\n",
    "select = Select(select_element)\n",
    "select.select_by_value(\"USER_RATING_COUNT\")  # Select \"Number of Ratings\"\n",
    "time.sleep(3)\n",
    "\n",
    "\n",
    "sort_button = driver.find_element(By.ID,'adv-srch-sort-order')\n",
    "sort_button.click()\n",
    "\n",
    "time.sleep(3)"
   ]
  },
  {
   "cell_type": "code",
   "execution_count": 7,
   "metadata": {},
   "outputs": [
    {
     "name": "stdout",
     "output_type": "stream",
     "text": [
      "Attempting to click 'See More' button...\n",
      "Clicked 'See More' button.\n",
      "Total Reviews Collected: 200\n",
      "Attempting to click 'See More' button...\n",
      "Clicked 'See More' button.\n",
      "Total Reviews Collected: 300\n",
      "Attempting to click 'See More' button...\n",
      "Clicked 'See More' button.\n",
      "Total Reviews Collected: 400\n",
      "Attempting to click 'See More' button...\n",
      "Clicked 'See More' button.\n",
      "Total Reviews Collected: 500\n",
      "Attempting to click 'See More' button...\n",
      "Clicked 'See More' button.\n",
      "Total Reviews Collected: 600\n",
      "Attempting to click 'See More' button...\n",
      "Clicked 'See More' button.\n",
      "Total Reviews Collected: 700\n",
      "Attempting to click 'See More' button...\n",
      "Clicked 'See More' button.\n",
      "Total Reviews Collected: 800\n",
      "Attempting to click 'See More' button...\n",
      "Clicked 'See More' button.\n",
      "Total Reviews Collected: 900\n",
      "Attempting to click 'See More' button...\n",
      "Clicked 'See More' button.\n",
      "Total Reviews Collected: 1000\n",
      "Review collection complete.\n"
     ]
    }
   ],
   "source": [
    "# Constants\n",
    "MAX_REVIEWS = 1000\n",
    "SCROLLING_PERCENTAGE = 0.95\n",
    "WAIT_TIME = 5  # Time to wait after scrolling or clicking\n",
    "\n",
    "\n",
    "def scroll_to_bottom():\n",
    "    \"\"\"Scrolls to the bottom of the page.\"\"\"\n",
    "    driver.execute_script(\"window.scrollTo(0, document.body.scrollHeight);\")\n",
    "    time.sleep(2)  # Allow time for content to load\n",
    "\n",
    "def scroll_to_element(element):\n",
    "    \"\"\"Scrolls smoothly to the given element.\"\"\"\n",
    "    driver.execute_script(\"arguments[0].scrollIntoView({behavior: 'smooth', block: 'center'});\", element)\n",
    "    time.sleep(2)  # Small delay for UI adjustment\n",
    "\n",
    "def click_button():\n",
    "    \"\"\"Finds and clicks the 'See More' button, if available.\"\"\"\n",
    "    try:\n",
    "        button = WebDriverWait(driver, 10).until(\n",
    "            EC.element_to_be_clickable((By.XPATH, \"//button[contains(@class, 'ipc-see-more__button')]\"))\n",
    "        )\n",
    "        scroll_to_element(button)\n",
    "        driver.execute_script(\"arguments[0].click();\", button)  # JavaScript click to avoid interception issues\n",
    "        print(\"Clicked 'See More' button.\")\n",
    "        time.sleep(WAIT_TIME)  # Allow time for new content to load\n",
    "    except Exception as e:\n",
    "        print(\"No more 'See More' button found or an error occurred:\", e)\n",
    "        return False  # Stop execution if button isn't found\n",
    "    return True\n",
    "\n",
    "def collect_reviews():\n",
    "    \"\"\"Collects the review elements from the page.\"\"\"\n",
    "    return driver.find_elements(By.CLASS_NAME, \"ipc-metadata-list-summary-item\")\n",
    "\n",
    "# Main loop\n",
    "while True:\n",
    "    # print(\"Scrolling down...\")\n",
    "    # scroll_to_bottom()\n",
    "    \n",
    "    print(\"Attempting to click 'See More' button...\")\n",
    "    if not click_button():  # If button is not found, exit loop\n",
    "        break\n",
    "\n",
    "    titles = collect_reviews()\n",
    "    print(f\"Total Reviews Collected: {len(titles)}\")\n",
    "\n",
    "    if len(titles) >= MAX_REVIEWS:\n",
    "        break\n",
    "\n",
    "print(\"Review collection complete.\")\n"
   ]
  },
  {
   "cell_type": "code",
   "execution_count": 8,
   "metadata": {},
   "outputs": [],
   "source": [
    "# import re\n",
    "# from tqdm import tqdm\n",
    "# from selenium.webdriver.common.by import By\n",
    "\n",
    "# # Dictionary to store movie titles and their corresponding IMDb links\n",
    "# movie_data = {}\n",
    "\n",
    "# # Iterate through each extracted 'li' element containing movie details\n",
    "# # for movie_element in tqdm(titles, desc='Processing movie titles'):\n",
    "# for movie_element in titles:\n",
    "\n",
    "#     # Extract the movie title from the 'h3' tag inside the element\n",
    "#     raw_title = movie_element.find_element(By.XPATH, \".//h3[contains(@class, 'ipc-title__text')]\").text\n",
    "#     print(f\"extracting {raw_title}\")\n",
    "\n",
    "#     # Remove leading numbers (e.g., \"1. The Shawshank Redemption\" → \"The Shawshank Redemption\")\n",
    "#     movie_title = re.sub(r\"^\\d+\\.\\s*\", \"\", raw_title)\n",
    "#     p\n",
    "\n",
    "#     # Extract the hyperlink to the movie's IMDb page\n",
    "#     movie_link = movie_element.find_element(By.TAG_NAME, 'a').get_attribute('href')\n",
    "\n",
    "#     # Store the extracted data in the dictionary\n",
    "#     movie_data[movie_title] = movie_link  # Corrected key to store the title properly\n",
    "\n",
    "# # The 'movie_data' dictionary now contains {movie_title: IMDb_link} pairs\n"
   ]
  },
  {
   "cell_type": "code",
   "execution_count": 9,
   "metadata": {},
   "outputs": [
    {
     "name": "stderr",
     "output_type": "stream",
     "text": [
      "Extracting titles and link: 100%|██████████| 1000/1000 [00:55<00:00, 18.17it/s]"
     ]
    },
    {
     "name": "stdout",
     "output_type": "stream",
     "text": [
      "Total movies extracted: 1000\n"
     ]
    },
    {
     "name": "stderr",
     "output_type": "stream",
     "text": [
      "\n"
     ]
    }
   ],
   "source": [
    "# List to store movie titles and their corresponding IMDb links\n",
    "movie_data = []\n",
    "\n",
    "# Iterate through each extracted 'li' element containing movie details\n",
    "for movie_element in tqdm(titles,desc = 'Extracting titles and link'):\n",
    "    # Extract the movie title from the 'h3' tag inside the element\n",
    "    raw_title = movie_element.find_element(By.XPATH, \".//h3[contains(@class, 'ipc-title__text')]\").text\n",
    "    # print(f\"Extracting: {raw_title}\")\n",
    "\n",
    "    # Remove leading numbers (e.g., \"1. The Shawshank Redemption\" → \"The Shawshank Redemption\")\n",
    "    movie_title = re.sub(r\"^\\d+\\.\\s*\", \"\", raw_title)\n",
    "\n",
    "    # Extract the hyperlink to the movie's IMDb page\n",
    "    movie_link = movie_element.find_element(By.TAG_NAME, 'a').get_attribute('href')\n",
    "\n",
    "    # Append data as a tuple (no risk of overwriting)\n",
    "    movie_data.append((movie_title, movie_link))\n",
    "\n",
    "# Convert list to DataFrame\n",
    "df_movies = pd.DataFrame(movie_data, columns=[\"Title\", \"IMDb Link\"])\n",
    "\n",
    "# Display the number of rows\n",
    "print(f\"Total movies extracted: {len(df_movies)}\")\n"
   ]
  },
  {
   "cell_type": "code",
   "execution_count": 10,
   "metadata": {},
   "outputs": [
    {
     "data": {
      "text/html": [
       "<div>\n",
       "<style scoped>\n",
       "    .dataframe tbody tr th:only-of-type {\n",
       "        vertical-align: middle;\n",
       "    }\n",
       "\n",
       "    .dataframe tbody tr th {\n",
       "        vertical-align: top;\n",
       "    }\n",
       "\n",
       "    .dataframe thead th {\n",
       "        text-align: right;\n",
       "    }\n",
       "</style>\n",
       "<table border=\"1\" class=\"dataframe\">\n",
       "  <thead>\n",
       "    <tr style=\"text-align: right;\">\n",
       "      <th></th>\n",
       "      <th>Title</th>\n",
       "      <th>IMDb Link</th>\n",
       "    </tr>\n",
       "  </thead>\n",
       "  <tbody>\n",
       "    <tr>\n",
       "      <th>0</th>\n",
       "      <td>Khosla Ka Ghosla!</td>\n",
       "      <td>https://www.imdb.com/title/tt0466460/?ref_=sr_i_1</td>\n",
       "    </tr>\n",
       "    <tr>\n",
       "      <th>1</th>\n",
       "      <td>That Obscure Object of Desire</td>\n",
       "      <td>https://www.imdb.com/title/tt0075824/?ref_=sr_i_2</td>\n",
       "    </tr>\n",
       "    <tr>\n",
       "      <th>2</th>\n",
       "      <td>Nayakan</td>\n",
       "      <td>https://www.imdb.com/title/tt0093603/?ref_=sr_i_3</td>\n",
       "    </tr>\n",
       "    <tr>\n",
       "      <th>3</th>\n",
       "      <td>The Twilight Samurai</td>\n",
       "      <td>https://www.imdb.com/title/tt0351817/?ref_=sr_i_4</td>\n",
       "    </tr>\n",
       "    <tr>\n",
       "      <th>4</th>\n",
       "      <td>Brother</td>\n",
       "      <td>https://www.imdb.com/title/tt0118767/?ref_=sr_i_5</td>\n",
       "    </tr>\n",
       "    <tr>\n",
       "      <th>...</th>\n",
       "      <td>...</td>\n",
       "      <td>...</td>\n",
       "    </tr>\n",
       "    <tr>\n",
       "      <th>995</th>\n",
       "      <td>Forrest Gump</td>\n",
       "      <td>https://www.imdb.com/title/tt0109830/?ref_=sr_...</td>\n",
       "    </tr>\n",
       "    <tr>\n",
       "      <th>996</th>\n",
       "      <td>Fight Club</td>\n",
       "      <td>https://www.imdb.com/title/tt0137523/?ref_=sr_...</td>\n",
       "    </tr>\n",
       "    <tr>\n",
       "      <th>997</th>\n",
       "      <td>Inception</td>\n",
       "      <td>https://www.imdb.com/title/tt1375666/?ref_=sr_...</td>\n",
       "    </tr>\n",
       "    <tr>\n",
       "      <th>998</th>\n",
       "      <td>The Dark Knight</td>\n",
       "      <td>https://www.imdb.com/title/tt0468569/?ref_=sr_...</td>\n",
       "    </tr>\n",
       "    <tr>\n",
       "      <th>999</th>\n",
       "      <td>The Shawshank Redemption</td>\n",
       "      <td>https://www.imdb.com/title/tt0111161/?ref_=sr_...</td>\n",
       "    </tr>\n",
       "  </tbody>\n",
       "</table>\n",
       "<p>1000 rows × 2 columns</p>\n",
       "</div>"
      ],
      "text/plain": [
       "                             Title  \\\n",
       "0                Khosla Ka Ghosla!   \n",
       "1    That Obscure Object of Desire   \n",
       "2                          Nayakan   \n",
       "3             The Twilight Samurai   \n",
       "4                          Brother   \n",
       "..                             ...   \n",
       "995                   Forrest Gump   \n",
       "996                     Fight Club   \n",
       "997                      Inception   \n",
       "998                The Dark Knight   \n",
       "999       The Shawshank Redemption   \n",
       "\n",
       "                                             IMDb Link  \n",
       "0    https://www.imdb.com/title/tt0466460/?ref_=sr_i_1  \n",
       "1    https://www.imdb.com/title/tt0075824/?ref_=sr_i_2  \n",
       "2    https://www.imdb.com/title/tt0093603/?ref_=sr_i_3  \n",
       "3    https://www.imdb.com/title/tt0351817/?ref_=sr_i_4  \n",
       "4    https://www.imdb.com/title/tt0118767/?ref_=sr_i_5  \n",
       "..                                                 ...  \n",
       "995  https://www.imdb.com/title/tt0109830/?ref_=sr_...  \n",
       "996  https://www.imdb.com/title/tt0137523/?ref_=sr_...  \n",
       "997  https://www.imdb.com/title/tt1375666/?ref_=sr_...  \n",
       "998  https://www.imdb.com/title/tt0468569/?ref_=sr_...  \n",
       "999  https://www.imdb.com/title/tt0111161/?ref_=sr_...  \n",
       "\n",
       "[1000 rows x 2 columns]"
      ]
     },
     "execution_count": 10,
     "metadata": {},
     "output_type": "execute_result"
    }
   ],
   "source": [
    "df_movies"
   ]
  },
  {
   "cell_type": "code",
   "execution_count": 11,
   "metadata": {},
   "outputs": [
    {
     "data": {
      "text/plain": [
       "Title\n",
       "Scarface                          2\n",
       "All Quiet on the Western Front    2\n",
       "Drishyam 2                        2\n",
       "Drishyam                          2\n",
       "Beauty and the Beast              2\n",
       "                                 ..\n",
       "Forrest Gump                      1\n",
       "Fight Club                        1\n",
       "Inception                         1\n",
       "The Dark Knight                   1\n",
       "The Wolf of Wall Street           1\n",
       "Name: count, Length: 994, dtype: int64"
      ]
     },
     "execution_count": 11,
     "metadata": {},
     "output_type": "execute_result"
    }
   ],
   "source": [
    "df_movies['Title'].value_counts()"
   ]
  },
  {
   "cell_type": "code",
   "execution_count": 12,
   "metadata": {},
   "outputs": [],
   "source": [
    "# pwd"
   ]
  },
  {
   "cell_type": "code",
   "execution_count": 13,
   "metadata": {},
   "outputs": [],
   "source": [
    "df_movies.to_csv('web_scrapper/data/Movies_index.csv',index=False)"
   ]
  }
 ],
 "metadata": {
  "kernelspec": {
   "display_name": "project_env",
   "language": "python",
   "name": "python3"
  },
  "language_info": {
   "codemirror_mode": {
    "name": "ipython",
    "version": 3
   },
   "file_extension": ".py",
   "mimetype": "text/x-python",
   "name": "python",
   "nbconvert_exporter": "python",
   "pygments_lexer": "ipython3",
   "version": "3.9.21"
  }
 },
 "nbformat": 4,
 "nbformat_minor": 2
}
